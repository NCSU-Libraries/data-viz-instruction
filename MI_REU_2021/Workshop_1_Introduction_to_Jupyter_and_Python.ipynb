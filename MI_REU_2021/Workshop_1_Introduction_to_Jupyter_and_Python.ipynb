{
 "cells": [
  {
   "cell_type": "markdown",
   "id": "62be9cc6",
   "metadata": {},
   "source": [
    "# A brief introduction to Jupyter Notebooks and Python"
   ]
  },
  {
   "cell_type": "markdown",
   "id": "a1da11b9",
   "metadata": {},
   "source": [
    "## Brief Jupyter overview\n",
    "\n",
    "The following sections cover the base information for using the Jupyter Notebook interface for this series of modules.\n",
    "\n",
    "### Cell types\n",
    "\n",
    "The basic structure of a Jupyter notebook consists of a sequence of cells from the top to the bottom of the page. The two basic cell types are **Markdown cells** and **Code cells**."
   ]
  },
  {
   "cell_type": "markdown",
   "id": "7bae2fe4",
   "metadata": {},
   "source": [
    "### Markdown cells\n",
    "\n",
    "This is a Markdown cell. You can create **formatted text** using the *Markdown language*.\n",
    "\n",
    "See the [Markdown Guide](https://www.markdownguide.org/cheat-sheet/) to learn more about the Markdown syntax."
   ]
  },
  {
   "cell_type": "markdown",
   "id": "5b087c95",
   "metadata": {},
   "source": [
    "### Code cells\n",
    "\n",
    "Code cells contain Python code. The cell below this Markdown cell is a code cell that contains valid Python syntax for:\n",
    "- defining a variable (`run_it = \"run this cell\"`),\n",
    "- creating a conditional statement (`if run_it == \"run this cell\":`),\n",
    "- calling the the built-in Python print method (`print(\"this cell ran\")`) to print output,\n",
    "- and including code comments (comments are preceded by a `#` symbol).\n",
    "\n",
    "**Run a code cell using `shift+enter`.** Any output will be displayed below the cell."
   ]
  },
  {
   "cell_type": "code",
   "execution_count": 1,
   "id": "b68a2c92",
   "metadata": {},
   "outputs": [
    {
     "name": "stdout",
     "output_type": "stream",
     "text": [
      "this cell ran\n"
     ]
    }
   ],
   "source": [
    "# Define the variable \"run_it\" and store the string \"run this cell\"\n",
    "run_it = \"run this cell\"\n",
    "\n",
    "# Test if the contents of \"run_it\" is equal to the string \"run this cell\"\n",
    "if run_it == \"run this cell\":\n",
    "  # Print \"this cell ran\"\n",
    "  print(\"this cell ran\")"
   ]
  },
  {
   "cell_type": "markdown",
   "id": "a99c38fd",
   "metadata": {},
   "source": [
    "You can reference variables created in another cell (e.g., `run_it`). The last expression in a cell will be printed by default. A print statement is not required to output the contents of `run_it` in the cell below."
   ]
  },
  {
   "cell_type": "code",
   "execution_count": 2,
   "id": "9ca755ca",
   "metadata": {
    "scrolled": true
   },
   "outputs": [
    {
     "data": {
      "text/plain": [
       "'run this cell'"
      ]
     },
     "execution_count": 2,
     "metadata": {},
     "output_type": "execute_result"
    }
   ],
   "source": [
    "run_it"
   ]
  },
  {
   "cell_type": "markdown",
   "id": "6d9cb6ef",
   "metadata": {},
   "source": [
    "## Brief Python overview"
   ]
  },
  {
   "cell_type": "markdown",
   "id": "d8800fd0",
   "metadata": {},
   "source": [
    "### Comments\n",
    "\n",
    "Comments provide a way to annotate your code in Python. Comments are preceded by a pound `#` symbol and are not interpreted when the code runs."
   ]
  },
  {
   "cell_type": "code",
   "execution_count": null,
   "id": "9e733ad9",
   "metadata": {},
   "outputs": [],
   "source": [
    "# This is comment\n",
    "# This is another comment"
   ]
  },
  {
   "cell_type": "markdown",
   "id": "6ddacd7d",
   "metadata": {},
   "source": [
    "### Variables\n",
    "\n",
    "Variables are used to store data for reuse in our code. By using variables we can edit the data in one place, the variable assignment, and recall the data stored in the variable at multiple places in our codebase."
   ]
  },
  {
   "cell_type": "code",
   "execution_count": 4,
   "id": "76d2e8ee",
   "metadata": {},
   "outputs": [
    {
     "data": {
      "text/plain": [
       "'900 x 900 = 810000'"
      ]
     },
     "execution_count": 4,
     "metadata": {},
     "output_type": "execute_result"
    }
   ],
   "source": [
    "# Store an integer in the variable \"number\"\n",
    "number = 900\n",
    "\n",
    "# Calculate the value of \"number\" * \"number\"\n",
    "number_times = number * number\n",
    "\n",
    "# Output the equation text: \"number x number = number_times\"\n",
    "f\"{number} x {number} = {number_times}\""
   ]
  },
  {
   "cell_type": "markdown",
   "id": "049ce85d",
   "metadata": {},
   "source": [
    "### Data types\n",
    "\n",
    "Vairables can store different data types. A data type provides a classification for specific data and what operations can be performed on these data. Each data type has associated methods that provide functionality for accessing information about the data or manipulating the data. There are several standard Python data types. Six of these data types (**strings**, **integers**, **floats**, **lists**, **dictionaries**, and **booleans**) are covered here."
   ]
  },
  {
   "cell_type": "markdown",
   "id": "45f34f64",
   "metadata": {},
   "source": [
    "#### Strings\n",
    "\n",
    "Strings consist of a sequence of characters and are created by surrounding a character sequence in single `''` or double `\"\"` quotes."
   ]
  },
  {
   "cell_type": "code",
   "execution_count": 1,
   "id": "86550522",
   "metadata": {},
   "outputs": [
    {
     "data": {
      "text/plain": [
       "str"
      ]
     },
     "execution_count": 1,
     "metadata": {},
     "output_type": "execute_result"
    }
   ],
   "source": [
    "# A string defined with double quotes\n",
    "\"This is a valid string\"\n",
    "\n",
    "# A string defined with single quotes\n",
    "'This is also a valid string'\n",
    "\n",
    "# Get the data type of an object using the built-in Python method type()\n",
    "type('A string')"
   ]
  },
  {
   "cell_type": "markdown",
   "id": "8551c9e3",
   "metadata": {},
   "source": [
    "##### String concatenation\n",
    "\n",
    "String concatenation is used to combine multiple strings into one string."
   ]
  },
  {
   "cell_type": "code",
   "execution_count": 44,
   "id": "d6ddc60b",
   "metadata": {},
   "outputs": [
    {
     "data": {
      "text/plain": [
       "'This is string concatenation | This is string concatenation'"
      ]
     },
     "execution_count": 44,
     "metadata": {},
     "output_type": "execute_result"
    }
   ],
   "source": [
    "string_1 = \"This is\"\n",
    "string_2 = \" string concatenation\"\n",
    "\n",
    "string_1 + string_2 + \" | \" + string_1 + string_2"
   ]
  },
  {
   "cell_type": "markdown",
   "id": "f6b0101f",
   "metadata": {},
   "source": [
    "##### Accessing characters in a string (string indexing)\n",
    "\n",
    "Access one character or a slice of characters from a string using indexing. Indexes in Python begin with zero, not one."
   ]
  },
  {
   "cell_type": "code",
   "execution_count": 84,
   "id": "3c093531",
   "metadata": {},
   "outputs": [
    {
     "data": {
      "text/plain": [
       "'!'"
      ]
     },
     "execution_count": 84,
     "metadata": {},
     "output_type": "execute_result"
    }
   ],
   "source": [
    "example_string = \"Hello. Thanks for learning with us!\"\n",
    "\n",
    "# Access a single character by zero-based index position from the beginning of string\n",
    "example_string[1]\n",
    "\n",
    "# Get the length of the string using the built-in Python method len()\n",
    "string_len = len(example_string)\n",
    "\n",
    "# Get the last character in the string using the length\n",
    "example_string[string_len - 1]\n",
    "\n",
    "# Get characters referenced from the end of a string using negative index\n",
    "example_string[-1]"
   ]
  },
  {
   "cell_type": "code",
   "execution_count": 85,
   "id": "35cc893f",
   "metadata": {},
   "outputs": [
    {
     "data": {
      "text/plain": [
       "'s!'"
      ]
     },
     "execution_count": 85,
     "metadata": {},
     "output_type": "execute_result"
    }
   ],
   "source": [
    "# Slicing a string [start:end:step] (end position is non-inclusive)\n",
    "example_string[0:2]\n",
    "\n",
    "# Exclude the start position if slicing from the start of the string\n",
    "example_string[:2]\n",
    "\n",
    "# Slice using negative index\n",
    "example_string[-2:]"
   ]
  },
  {
   "cell_type": "markdown",
   "id": "3705f35c",
   "metadata": {},
   "source": [
    "##### String methods\n",
    "\n",
    "Methods can be called on a string, and all other data types, using dot `.` notation. In order to run the method, the method name must be followed by opened and closed parentheses `()`"
   ]
  },
  {
   "cell_type": "code",
   "execution_count": 86,
   "id": "f13344f6",
   "metadata": {},
   "outputs": [
    {
     "data": {
      "text/plain": [
       "'HELLO! THANKS FOR LEARNING WITH US!'"
      ]
     },
     "execution_count": 86,
     "metadata": {},
     "output_type": "execute_result"
    }
   ],
   "source": [
    "# Convert \"example_string\" characters to uppercase using the upper method\n",
    "example_string.upper()"
   ]
  },
  {
   "cell_type": "code",
   "execution_count": 87,
   "id": "8e89d9ea",
   "metadata": {},
   "outputs": [
    {
     "data": {
      "text/plain": [
       "['Hello!', 'Thanks', 'for', 'learning', 'with', 'us!']"
      ]
     },
     "execution_count": 87,
     "metadata": {},
     "output_type": "execute_result"
    }
   ],
   "source": [
    "# Split the string at the occurance of spaces\n",
    "example_string.split(\" \")"
   ]
  },
  {
   "cell_type": "markdown",
   "id": "25979601",
   "metadata": {},
   "source": [
    "#### Numbers (integers and floats)\n",
    "\n",
    "Integers include postitive and negative whole numbers. Floats consist of numbers with a decimal point."
   ]
  },
  {
   "cell_type": "code",
   "execution_count": 2,
   "id": "f9e170f0",
   "metadata": {},
   "outputs": [
    {
     "name": "stdout",
     "output_type": "stream",
     "text": [
      "<class 'int'> <class 'float'>\n"
     ]
    }
   ],
   "source": [
    "example_int = 10\n",
    "example_float = 10.1\n",
    "\n",
    "print(type(example_int), type(example_float))"
   ]
  },
  {
   "cell_type": "markdown",
   "id": "6fcc2be8",
   "metadata": {},
   "source": [
    "##### Mathematical operations\n",
    "\n",
    "Mathematical operations follow standard order of operations (exponent, remainder, division, multiplication, addition, subtraction). It is important to be aware of what type of number is returned by an operation."
   ]
  },
  {
   "cell_type": "code",
   "execution_count": 16,
   "id": "554cc68b",
   "metadata": {},
   "outputs": [
    {
     "data": {
      "text/plain": [
       "100"
      ]
     },
     "execution_count": 16,
     "metadata": {},
     "output_type": "execute_result"
    }
   ],
   "source": [
    "# Multiplication of integers returns an integer\n",
    "10 * 10"
   ]
  },
  {
   "cell_type": "code",
   "execution_count": 17,
   "id": "f6288c42",
   "metadata": {},
   "outputs": [
    {
     "name": "stdout",
     "output_type": "stream",
     "text": [
      "101.0\n"
     ]
    }
   ],
   "source": [
    "# Multiplication of an integer and a float returns a float\n",
    "10 * 10.1"
   ]
  },
  {
   "cell_type": "code",
   "execution_count": 18,
   "id": "d386919e",
   "metadata": {},
   "outputs": [
    {
     "name": "stdout",
     "output_type": "stream",
     "text": [
      "5.0\n"
     ]
    }
   ],
   "source": [
    "# Division of integers returns a float\n",
    "10 / 2"
   ]
  },
  {
   "cell_type": "code",
   "execution_count": 19,
   "id": "acb7fecb",
   "metadata": {},
   "outputs": [
    {
     "name": "stdout",
     "output_type": "stream",
     "text": [
      "3\n"
     ]
    }
   ],
   "source": [
    "# Use double slashes (//) to perform integer division\n",
    "10 // 3"
   ]
  },
  {
   "cell_type": "code",
   "execution_count": 20,
   "id": "c8738dee",
   "metadata": {},
   "outputs": [
    {
     "name": "stdout",
     "output_type": "stream",
     "text": [
      "9\n"
     ]
    }
   ],
   "source": [
    "# Calculate exponents using double asterisks (**)\n",
    "3 ** 2"
   ]
  },
  {
   "cell_type": "code",
   "execution_count": 21,
   "id": "7b842aa7",
   "metadata": {},
   "outputs": [
    {
     "name": "stdout",
     "output_type": "stream",
     "text": [
      "1\n"
     ]
    }
   ],
   "source": [
    "# Calculate the remainder of division using the percent sign (%)\n",
    "10 % 3"
   ]
  },
  {
   "cell_type": "markdown",
   "id": "8b861961",
   "metadata": {},
   "source": [
    "#### Lists\n",
    "\n",
    "Lists hold a sequence of items. Items can be of any data type and a single list can contain multiple data types. A list is created by including comma seperated objects between open and closed square brackets `[]`."
   ]
  },
  {
   "cell_type": "code",
   "execution_count": 22,
   "id": "f2ee1a86",
   "metadata": {},
   "outputs": [
    {
     "data": {
      "text/plain": [
       "['item1', 'item2', 'item3']"
      ]
     },
     "execution_count": 22,
     "metadata": {},
     "output_type": "execute_result"
    }
   ],
   "source": [
    "# Create a list of strings\n",
    "['item1', 'item2', 'item3']"
   ]
  },
  {
   "cell_type": "code",
   "execution_count": 23,
   "id": "5f519b90",
   "metadata": {},
   "outputs": [
    {
     "name": "stdout",
     "output_type": "stream",
     "text": [
      "1 <class 'int'>\n",
      "two <class 'str'>\n",
      "[3, 'four'] <class 'list'>\n"
     ]
    }
   ],
   "source": [
    "# Create a list of mixed data types\n",
    "mixed_list = [1, 'two', [3, 'four']]\n",
    "\n",
    "# Print the item and item type for each item in the mixed list\n",
    "for item in mixed_list:\n",
    "  print(item, type(item))"
   ]
  },
  {
   "cell_type": "markdown",
   "id": "9db2cc74",
   "metadata": {},
   "source": [
    "##### List indexing\n",
    "\n",
    "Access items from a list using indexing similar to strings."
   ]
  },
  {
   "cell_type": "code",
   "execution_count": 28,
   "id": "0eff43c1",
   "metadata": {},
   "outputs": [
    {
     "data": {
      "text/plain": [
       "[3, 'four']"
      ]
     },
     "execution_count": 28,
     "metadata": {},
     "output_type": "execute_result"
    }
   ],
   "source": [
    "# Access a single item from a list\n",
    "mixed_list[0]\n",
    "\n",
    "# Access multiple items from a list\n",
    "mixed_list[:2]\n",
    "\n",
    "# Get the length of a list\n",
    "list_len = len(mixed_list)\n",
    "\n",
    "# Access the last item from a list\n",
    "mixed_list[list_len - 1]\n",
    "\n",
    "# Access the last item from a list using negative reference\n",
    "mixed_list[-1]"
   ]
  },
  {
   "cell_type": "code",
   "execution_count": 29,
   "id": "096a5328",
   "metadata": {},
   "outputs": [
    {
     "data": {
      "text/plain": [
       "['Updated item', 'two', [3, 'four']]"
      ]
     },
     "execution_count": 29,
     "metadata": {},
     "output_type": "execute_result"
    }
   ],
   "source": [
    "# Replace items in a list using direct assignment with indexing\n",
    "mixed_list[0] = \"Updated item\"\n",
    "\n",
    "# Print updated list\n",
    "mixed_list"
   ]
  },
  {
   "cell_type": "markdown",
   "id": "04ab46fe",
   "metadata": {},
   "source": [
    "##### List methods"
   ]
  },
  {
   "cell_type": "code",
   "execution_count": 30,
   "id": "aff6e58d",
   "metadata": {},
   "outputs": [
    {
     "data": {
      "text/plain": [
       "['Updated item', 'two', [3, 'four'], 'new item']"
      ]
     },
     "execution_count": 30,
     "metadata": {},
     "output_type": "execute_result"
    }
   ],
   "source": [
    "# Add an item to the end of a list using the append method\n",
    "mixed_list.append('new item')\n",
    "\n",
    "# Print the updated list\n",
    "mixed_list"
   ]
  },
  {
   "cell_type": "code",
   "execution_count": 32,
   "id": "b9bc17fd",
   "metadata": {},
   "outputs": [
    {
     "data": {
      "text/plain": [
       "1"
      ]
     },
     "execution_count": 32,
     "metadata": {},
     "output_type": "execute_result"
    }
   ],
   "source": [
    "# Get the index of the first item with a specified value using the index method\n",
    "mixed_list.index('two')"
   ]
  },
  {
   "cell_type": "markdown",
   "id": "9e30fa14",
   "metadata": {},
   "source": [
    "#### Dictionaries\n",
    "\n",
    "Dictionaries hold values that are associated with a key, they exist as pairs. Each key (like a word in a dictionary) has a value (like the word's definition). Access the values in a dictionary by referencing the key, since each key is unique.\n",
    "\n",
    "A dictionary is created using braces `{}` between which each key and value are assigned using the format `key_1: value, key_2: value, ...`"
   ]
  },
  {
   "cell_type": "code",
   "execution_count": 34,
   "id": "df69c806",
   "metadata": {},
   "outputs": [
    {
     "data": {
      "text/plain": [
       "{'apple': 'fruit', 'banana': 'fruit', 'corn': 'vegetable'}"
      ]
     },
     "execution_count": 34,
     "metadata": {},
     "output_type": "execute_result"
    }
   ],
   "source": [
    "# Create an example dictionary\n",
    "example_dict = {\"apple\": \"fruit\", 'banana': 'fruit', 'corn': 'vegetable'}\n",
    "\n",
    "# Print the dictionary\n",
    "example_dict"
   ]
  },
  {
   "cell_type": "code",
   "execution_count": 35,
   "id": "2ab5fed7",
   "metadata": {},
   "outputs": [
    {
     "data": {
      "text/plain": [
       "'fruit'"
      ]
     },
     "execution_count": 35,
     "metadata": {},
     "output_type": "execute_result"
    }
   ],
   "source": [
    "# Access the value of a dictionary by calling its key pair\n",
    "example_dict['apple']"
   ]
  },
  {
   "cell_type": "code",
   "execution_count": 39,
   "id": "362f36e3",
   "metadata": {},
   "outputs": [
    {
     "data": {
      "text/plain": [
       "{'apple': 'fruit', 'banana': 'fruit', 'corn': 'vegetable', 'orange': 'fruit'}"
      ]
     },
     "execution_count": 39,
     "metadata": {},
     "output_type": "execute_result"
    }
   ],
   "source": [
    "# Directly add new keys and values to a dictionary\n",
    "example_dict['orange'] = 'fruit'\n",
    "\n",
    "# Print the updated dictionary\n",
    "example_dict"
   ]
  },
  {
   "cell_type": "markdown",
   "id": "a7fee0e6",
   "metadata": {},
   "source": [
    "#### Booleans\n",
    "\n",
    "Booleans can represent one of two values, either `True` or `False`. Booleans are typically the result of conditional expressions comparing values using comparison operators (`>`, `<`, `==`, `!=`, `<=`, `>=`)."
   ]
  },
  {
   "cell_type": "code",
   "execution_count": 42,
   "id": "5e184ee0",
   "metadata": {},
   "outputs": [
    {
     "data": {
      "text/plain": [
       "True"
      ]
     },
     "execution_count": 42,
     "metadata": {},
     "output_type": "execute_result"
    }
   ],
   "source": [
    "# Create a boolean by testing if two strings are equal\n",
    "\"Hello\" == \"Hello\""
   ]
  },
  {
   "cell_type": "code",
   "execution_count": 48,
   "id": "576e3db8",
   "metadata": {},
   "outputs": [
    {
     "data": {
      "text/plain": [
       "True"
      ]
     },
     "execution_count": 48,
     "metadata": {},
     "output_type": "execute_result"
    }
   ],
   "source": [
    "# Create a boolean by comparing two integers\n",
    "10 != 4"
   ]
  },
  {
   "cell_type": "markdown",
   "id": "378605f2",
   "metadata": {},
   "source": [
    "#### Control flow\n",
    "\n",
    "Control flow refers to statements that allow you to change the path of execution of your program. Instead of executing each line of code in order, you can make repeat lines of code or move to different lines of code depending on different conditions."
   ]
  },
  {
   "cell_type": "markdown",
   "id": "9fe62983",
   "metadata": {},
   "source": [
    "##### If statements\n",
    "\n",
    "An `if` statement is used to check if a conditional expression (e.g., `5 > 1`) is true or false and run a block of code contingient on the results of the comparison. A block of code associated with an `if` statement is defined using indentation. A basic `if` statement has the following generalized syntax:\n",
    "```python\n",
    "if conditional_expression:\n",
    "    '''\n",
    "    indented block of code\n",
    "    that will run when\n",
    "    conditional_expression equals true\n",
    "    '''\n",
    "```"
   ]
  },
  {
   "cell_type": "code",
   "execution_count": 52,
   "id": "82b59642",
   "metadata": {},
   "outputs": [
    {
     "name": "stdout",
     "output_type": "stream",
     "text": [
      "This is true\n"
     ]
    }
   ],
   "source": [
    "# An example if statement\n",
    "if 5 > 1:\n",
    "  print(\"This is true\")"
   ]
  },
  {
   "cell_type": "code",
   "execution_count": 55,
   "id": "913e9223",
   "metadata": {},
   "outputs": [
    {
     "name": "stdout",
     "output_type": "stream",
     "text": [
      "This is false\n"
     ]
    }
   ],
   "source": [
    "# Use the else keyword to conditionally run code when the if statement is false\n",
    "if 5 == 2:\n",
    "  print(\"This is true\")\n",
    "else:\n",
    "  print(\"This is false\")"
   ]
  },
  {
   "cell_type": "code",
   "execution_count": 61,
   "id": "22375aec",
   "metadata": {},
   "outputs": [
    {
     "name": "stdout",
     "output_type": "stream",
     "text": [
      "Hi, Bill!\n"
     ]
    }
   ],
   "source": [
    "# Use elif to include multiple conditional statments\n",
    "name = \"Bill\"\n",
    "\n",
    "if name == \"Bill\":\n",
    "  print(\"Hi, Bill!\")\n",
    "elif name == \"Bob\":\n",
    "  print(\"Hi, Bob\")\n",
    "else:\n",
    "  print(\"Who are you?\")"
   ]
  },
  {
   "cell_type": "markdown",
   "id": "6b009ffe",
   "metadata": {},
   "source": [
    "Use logical statments (`and`, `or`, and `not`) to test multiple conditions in one `if` statement"
   ]
  },
  {
   "cell_type": "code",
   "execution_count": 62,
   "id": "bb48e68b",
   "metadata": {},
   "outputs": [
    {
     "name": "stdout",
     "output_type": "stream",
     "text": [
      "Hi, Bill\n"
     ]
    }
   ],
   "source": [
    "# Test if name is Bill or Bob\n",
    "if name == \"Bill\" or name == \"Bob\":\n",
    "  print(\"Hi,\", name)\n",
    "else:\n",
    "  print(\"Who are you?\")"
   ]
  },
  {
   "cell_type": "markdown",
   "id": "a76c252f",
   "metadata": {},
   "source": [
    "##### For loops\n",
    "\n",
    "For loops iterate over a sequence of objects such as items in a list or characters in a string. A for loop has the generalized syntax:\n",
    "```python\n",
    "for item in sqeuence:\n",
    "    '''\n",
    "    indented block of code\n",
    "    that will run for each\n",
    "    item in sequence\n",
    "    '''\n",
    "```"
   ]
  },
  {
   "cell_type": "code",
   "execution_count": 64,
   "id": "e020e726",
   "metadata": {},
   "outputs": [
    {
     "name": "stdout",
     "output_type": "stream",
     "text": [
      "1\n",
      "2\n",
      "3\n",
      "4\n",
      "5\n"
     ]
    }
   ],
   "source": [
    "# Create a list of integers\n",
    "list_a = [1, 2, 3, 4, 5]\n",
    "\n",
    "# Loop through each item in the list and print that item\n",
    "for item in list_a:\n",
    "  print(item)"
   ]
  },
  {
   "cell_type": "code",
   "execution_count": 65,
   "id": "5157f4da",
   "metadata": {},
   "outputs": [
    {
     "name": "stdout",
     "output_type": "stream",
     "text": [
      "H\n",
      "e\n",
      "l\n",
      "l\n",
      "o\n",
      " \n",
      "a\n",
      "g\n",
      "a\n",
      "i\n",
      "n\n",
      "!\n"
     ]
    }
   ],
   "source": [
    "# Create a string\n",
    "string_a = 'Hello again!'\n",
    "\n",
    "for char in string_a:\n",
    "  print(char)"
   ]
  },
  {
   "cell_type": "markdown",
   "id": "f411982f",
   "metadata": {},
   "source": [
    "### Functions\n",
    "\n",
    "At the most basic level, functions are chunks of reusable code. A function can accept data, passed in as arguments, and return data.\n",
    "\n",
    "A function is declared using the generalized syntax:\n",
    "\n",
    "```python\n",
    "def function_name(arg_1, arg_2, arg_3):\n",
    "    indented function code...\n",
    "    return value\n",
    "```"
   ]
  },
  {
   "cell_type": "code",
   "execution_count": 38,
   "id": "149bda43",
   "metadata": {},
   "outputs": [
    {
     "data": {
      "text/plain": [
       "105"
      ]
     },
     "execution_count": 38,
     "metadata": {},
     "output_type": "execute_result"
    }
   ],
   "source": [
    "# Define a function that adds two numbers\n",
    "def add_two_nums(num1, num2):\n",
    "  # Return the results of num1 + num2\n",
    "  return num1 + num2\n",
    "\n",
    "# Call the function and add two numbers\n",
    "add_two_nums(5, 100)"
   ]
  },
  {
   "cell_type": "code",
   "execution_count": 69,
   "id": "209e0f24",
   "metadata": {},
   "outputs": [
    {
     "data": {
      "text/plain": [
       "'This! is! a! boring! sentance!'"
      ]
     },
     "execution_count": 69,
     "metadata": {},
     "output_type": "execute_result"
    }
   ],
   "source": [
    "# Define a function that replaces periods with exclamation marks in a string\n",
    "def replace_period(string):\n",
    "  new_string = \"\"\n",
    "  for char in string:\n",
    "    if char == \".\":\n",
    "      new_string = new_string + \"!\"\n",
    "    else:\n",
    "      new_string = new_string + char\n",
    "  return new_string\n",
    "\n",
    "# Call the function on a string that contains periods\n",
    "replace_period(\"This. is. a. boring. sentance.\")"
   ]
  }
 ],
 "metadata": {
  "kernelspec": {
   "display_name": "Python 3",
   "language": "python",
   "name": "python3"
  },
  "language_info": {
   "codemirror_mode": {
    "name": "ipython",
    "version": 3
   },
   "file_extension": ".py",
   "mimetype": "text/x-python",
   "name": "python",
   "nbconvert_exporter": "python",
   "pygments_lexer": "ipython3",
   "version": "3.8.8"
  }
 },
 "nbformat": 4,
 "nbformat_minor": 5
}
