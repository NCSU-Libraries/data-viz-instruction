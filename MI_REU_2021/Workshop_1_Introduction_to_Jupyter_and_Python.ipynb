{
 "cells": [
  {
   "cell_type": "markdown",
   "id": "62be9cc6",
   "metadata": {},
   "source": [
    "# A brief introduction to Jupyter Notebooks and Python"
   ]
  },
  {
   "cell_type": "markdown",
   "id": "a1da11b9",
   "metadata": {},
   "source": [
    "## Cells\n",
    "\n",
    "The basic structure of a Jupyter notebook consists of a sequence of cells from the top to the bottom of the page."
   ]
  },
  {
   "cell_type": "markdown",
   "id": "7bae2fe4",
   "metadata": {},
   "source": [
    "### Markdown cells\n",
    "\n",
    "This is a Markdown cell. You can type **formatted text** using the *Markdown language*.\n",
    "\n",
    "See the [Markdown Guide](https://www.markdownguide.org/cheat-sheet/) to learn more about the Markdown syntax."
   ]
  },
  {
   "cell_type": "markdown",
   "id": "5b087c95",
   "metadata": {},
   "source": [
    "### Code cells"
   ]
  },
  {
   "cell_type": "code",
   "execution_count": 3,
   "id": "b68a2c92",
   "metadata": {},
   "outputs": [
    {
     "name": "stdout",
     "output_type": "stream",
     "text": [
      "this cell ran\n"
     ]
    }
   ],
   "source": [
    "run_it = \"run this cell\"\n",
    "\n",
    "if run_it == \"run this cell\":\n",
    "  print(\"this cell ran\")"
   ]
  },
  {
   "cell_type": "markdown",
   "id": "a99c38fd",
   "metadata": {},
   "source": [
    "You can reference variables created in another cell"
   ]
  },
  {
   "cell_type": "code",
   "execution_count": 4,
   "id": "9ca755ca",
   "metadata": {},
   "outputs": [
    {
     "data": {
      "text/plain": [
       "'run this cell'"
      ]
     },
     "execution_count": 4,
     "metadata": {},
     "output_type": "execute_result"
    }
   ],
   "source": [
    "run_it"
   ]
  },
  {
   "cell_type": "code",
   "execution_count": null,
   "id": "3e7e74d4",
   "metadata": {},
   "outputs": [],
   "source": []
  }
 ],
 "metadata": {
  "kernelspec": {
   "display_name": "Python 3",
   "language": "python",
   "name": "python3"
  },
  "language_info": {
   "codemirror_mode": {
    "name": "ipython",
    "version": 3
   },
   "file_extension": ".py",
   "mimetype": "text/x-python",
   "name": "python",
   "nbconvert_exporter": "python",
   "pygments_lexer": "ipython3",
   "version": "3.8.8"
  }
 },
 "nbformat": 4,
 "nbformat_minor": 5
}
