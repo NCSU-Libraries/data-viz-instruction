{
 "cells": [
  {
   "cell_type": "markdown",
   "id": "62be9cc6",
   "metadata": {},
   "source": [
    "# A brief introduction to Jupyter Notebooks and Python"
   ]
  },
  {
   "cell_type": "markdown",
   "id": "a1da11b9",
   "metadata": {},
   "source": [
    "## Brief Jupyter overview\n",
    "\n",
    "The following sections cover the base information for using the Jupyter Notebook interface.\n",
    "\n",
    "### Cell types\n",
    "\n",
    "The basic structure of a Jupyter notebook consists of a sequence of cells from the top to the bottom of the page. The two basic cell types are **Markdown cells** and **Code cells**."
   ]
  },
  {
   "cell_type": "markdown",
   "id": "7bae2fe4",
   "metadata": {},
   "source": [
    "### Markdown cells\n",
    "\n",
    "This is a Markdown cell. You can create **formatted text** using the *Markdown language*.\n",
    "\n",
    "See the [Markdown Guide](https://www.markdownguide.org/cheat-sheet/) to learn more about the Markdown syntax."
   ]
  },
  {
   "cell_type": "markdown",
   "id": "5b087c95",
   "metadata": {},
   "source": [
    "### Code cells\n",
    "\n",
    "Code cells contain Python code. The cell below this Markdown cell is a code cell that contains valid Python syntax for:\n",
    "- defining a variable (`run_it = \"run this cell\"`),\n",
    "- creating a conditional statement (`if run_it == \"run this cell\":`),\n",
    "- calling the the built-in Python print method (`print(\"this cell ran\")`) to print output,\n",
    "- and including code comments (comments are preceded by a `#` symbol).\n",
    "\n",
    "**Run a code cell using `shift+enter`.** Any output will be displayed below the cell."
   ]
  },
  {
   "cell_type": "code",
   "execution_count": 7,
   "id": "b68a2c92",
   "metadata": {},
   "outputs": [
    {
     "name": "stdout",
     "output_type": "stream",
     "text": [
      "this cell ran\n"
     ]
    }
   ],
   "source": [
    "# Define the variable \"run_it\" and store the string \"run this cell\"\n",
    "run_it = \"run this cell\"\n",
    "\n",
    "# Test if the contents of \"run_it\" is equal to the string \"run this cell\"\n",
    "if run_it == \"run this cell\":\n",
    "  # Print \"this cell ran\"\n",
    "  print(\"this cell ran\")"
   ]
  },
  {
   "cell_type": "markdown",
   "id": "a99c38fd",
   "metadata": {},
   "source": [
    "You can reference variables created in another cell (e.g., `run_it`). The last expression in a cell will be printed by default. A print statement is not required to output the contents of `run_it` in the cell below."
   ]
  },
  {
   "cell_type": "code",
   "execution_count": 8,
   "id": "9ca755ca",
   "metadata": {
    "scrolled": true
   },
   "outputs": [
    {
     "data": {
      "text/plain": [
       "'run this cell'"
      ]
     },
     "execution_count": 8,
     "metadata": {},
     "output_type": "execute_result"
    }
   ],
   "source": [
    "run_it"
   ]
  },
  {
   "cell_type": "markdown",
   "id": "6d9cb6ef",
   "metadata": {},
   "source": [
    "## Brief Python overview"
   ]
  },
  {
   "cell_type": "markdown",
   "id": "d8800fd0",
   "metadata": {},
   "source": [
    "### Comments\n",
    "\n",
    "Comments provide a way to annotate your code in Python. Comments are preceded by a pound `#` symbol and are not interpreted when the code runs."
   ]
  },
  {
   "cell_type": "code",
   "execution_count": null,
   "id": "9e733ad9",
   "metadata": {},
   "outputs": [],
   "source": [
    "# This is comment\n",
    "# This is another comment"
   ]
  },
  {
   "cell_type": "markdown",
   "id": "6ddacd7d",
   "metadata": {},
   "source": [
    "### Variables\n",
    "\n",
    "Variables are used to store data for reuse in our code. By using variables we can edit the data in one place, the variable assignment, and recall the data stored in the variable at multiple places in our codebase."
   ]
  },
  {
   "cell_type": "code",
   "execution_count": 21,
   "id": "76d2e8ee",
   "metadata": {},
   "outputs": [
    {
     "data": {
      "text/plain": [
       "'100 x 100 = 10000'"
      ]
     },
     "execution_count": 21,
     "metadata": {},
     "output_type": "execute_result"
    }
   ],
   "source": [
    "# Store an integer in the variable \"number\"\n",
    "number = 100\n",
    "\n",
    "# Calculate the value of \"number\" * \"number\"\n",
    "number_times = number * number\n",
    "\n",
    "# Output the equation text: \"number x number = number_times\"\n",
    "f\"{number} x {number} = {number_times}\""
   ]
  },
  {
   "cell_type": "markdown",
   "id": "049ce85d",
   "metadata": {},
   "source": [
    "### Data types\n",
    "\n",
    "Vairables can store different data types. A data type provides a classification for specific data and what operations can be performed on these data. Each data type has associated methods that provide functionality for accessing information about the data or manipulating the data. There are several standard Python data types. Six of these data types (**strings**, **integers**, **floats**, **lists**, **dictionaries**, and **booleans**) are covered here."
   ]
  },
  {
   "cell_type": "markdown",
   "id": "45f34f64",
   "metadata": {},
   "source": [
    "### Strings\n",
    "\n",
    "Strings consist of a sequence of characters and are created by surrounding a character sequence in single `''` or double `\"\"` quotes."
   ]
  },
  {
   "cell_type": "code",
   "execution_count": 37,
   "id": "86550522",
   "metadata": {},
   "outputs": [
    {
     "data": {
      "text/plain": [
       "'This is also a valid string'"
      ]
     },
     "execution_count": 37,
     "metadata": {},
     "output_type": "execute_result"
    }
   ],
   "source": [
    "\"This is a valid string\"\n",
    "'This is also a valid string'"
   ]
  },
  {
   "cell_type": "markdown",
   "id": "8551c9e3",
   "metadata": {},
   "source": [
    "#### String concatenation\n",
    "\n",
    "String concatenation is used to combine multiple strings into one string."
   ]
  },
  {
   "cell_type": "code",
   "execution_count": 44,
   "id": "d6ddc60b",
   "metadata": {},
   "outputs": [
    {
     "data": {
      "text/plain": [
       "'This is string concatenation | This is string concatenation'"
      ]
     },
     "execution_count": 44,
     "metadata": {},
     "output_type": "execute_result"
    }
   ],
   "source": [
    "string_1 = \"This is\"\n",
    "string_2 = \" string concatenation\"\n",
    "\n",
    "string_1 + string_2 + \" | \" + string_1 + string_2"
   ]
  },
  {
   "cell_type": "markdown",
   "id": "f6b0101f",
   "metadata": {},
   "source": [
    "#### Accessing characters in a string (string indexing)\n",
    "\n",
    "Access one character or a slice of characters from a string using indexing. Indexes in Python begin with zero, not one."
   ]
  },
  {
   "cell_type": "code",
   "execution_count": 84,
   "id": "3c093531",
   "metadata": {},
   "outputs": [
    {
     "data": {
      "text/plain": [
       "'!'"
      ]
     },
     "execution_count": 84,
     "metadata": {},
     "output_type": "execute_result"
    }
   ],
   "source": [
    "example_string = \"Hello. Thanks for learning with us!\"\n",
    "\n",
    "# Access a single character by zero-based index position from the beginning of string\n",
    "example_string[1]\n",
    "\n",
    "# Get the length of the string using the built-in Python method len()\n",
    "string_len = len(example_string)\n",
    "\n",
    "# Get the last character in the string using the length\n",
    "example_string[string_len - 1]\n",
    "\n",
    "# Get characters referenced from the end of a string using negative index\n",
    "example_string[-1]"
   ]
  },
  {
   "cell_type": "code",
   "execution_count": 85,
   "id": "35cc893f",
   "metadata": {},
   "outputs": [
    {
     "data": {
      "text/plain": [
       "'s!'"
      ]
     },
     "execution_count": 85,
     "metadata": {},
     "output_type": "execute_result"
    }
   ],
   "source": [
    "# Slicing a string [start:end:step] (end position is non-inclusive)\n",
    "example_string[0:2]\n",
    "\n",
    "# Exclude the start position if slicing from the start of the string\n",
    "example_string[:2]\n",
    "\n",
    "# Slice using negative index\n",
    "example_string[-2:]"
   ]
  },
  {
   "cell_type": "markdown",
   "id": "3705f35c",
   "metadata": {},
   "source": [
    "#### String methods\n",
    "\n",
    "Methods can be called on a string, and all other data types, using dot `.` notation. In order to run the method, the method name must be followed by opened and closed parentheses `()`"
   ]
  },
  {
   "cell_type": "code",
   "execution_count": 86,
   "id": "f13344f6",
   "metadata": {},
   "outputs": [
    {
     "data": {
      "text/plain": [
       "'HELLO! THANKS FOR LEARNING WITH US!'"
      ]
     },
     "execution_count": 86,
     "metadata": {},
     "output_type": "execute_result"
    }
   ],
   "source": [
    "# Convert \"example_string\" characters to uppercase using the upper method\n",
    "example_string.upper()"
   ]
  },
  {
   "cell_type": "code",
   "execution_count": 87,
   "id": "8e89d9ea",
   "metadata": {},
   "outputs": [
    {
     "data": {
      "text/plain": [
       "['Hello!', 'Thanks', 'for', 'learning', 'with', 'us!']"
      ]
     },
     "execution_count": 87,
     "metadata": {},
     "output_type": "execute_result"
    }
   ],
   "source": [
    "# Split the string at the occurance of spaces\n",
    "example_string.split(\" \")"
   ]
  },
  {
   "cell_type": "markdown",
   "id": "25979601",
   "metadata": {},
   "source": [
    "### Numbers (integers and floats)"
   ]
  },
  {
   "cell_type": "code",
   "execution_count": null,
   "id": "f9e170f0",
   "metadata": {},
   "outputs": [],
   "source": []
  }
 ],
 "metadata": {
  "kernelspec": {
   "display_name": "Python 3",
   "language": "python",
   "name": "python3"
  },
  "language_info": {
   "codemirror_mode": {
    "name": "ipython",
    "version": 3
   },
   "file_extension": ".py",
   "mimetype": "text/x-python",
   "name": "python",
   "nbconvert_exporter": "python",
   "pygments_lexer": "ipython3",
   "version": "3.8.8"
  }
 },
 "nbformat": 4,
 "nbformat_minor": 5
}
