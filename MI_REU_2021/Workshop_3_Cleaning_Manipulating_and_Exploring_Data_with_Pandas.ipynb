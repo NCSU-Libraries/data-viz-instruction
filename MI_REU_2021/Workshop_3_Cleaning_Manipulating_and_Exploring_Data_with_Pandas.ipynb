{
 "cells": [
  {
   "cell_type": "markdown",
   "metadata": {},
   "source": [
    "# Workshop 3: Cleaning, Manipulating, and Exploring Data with Pandas\n",
    "[Placeholder for intro materials]\n",
    "\n",
    "Notes:\n",
    "Renaming columns?"
   ]
  },
  {
   "cell_type": "code",
   "execution_count": null,
   "metadata": {},
   "outputs": [],
   "source": [
    "# Import the Pandas library as pd (callable in our code as pd)\n",
    "import pandas as pd"
   ]
  },
  {
   "cell_type": "markdown",
   "metadata": {},
   "source": [
    "## Combining datasets\n",
    "Remove this one?"
   ]
  },
  {
   "cell_type": "markdown",
   "metadata": {},
   "source": [
    "## Removing data\n",
    "### Drop columns\n",
    "We can reduce the size of our dataset by removing unnecessary columns of data using the DataFrame `drop()` method."
   ]
  },
  {
   "cell_type": "code",
   "execution_count": null,
   "metadata": {},
   "outputs": [],
   "source": [
    "# Remove the \"STATE\", \"FAAREGION\", and \"COMMENT\" columns using \"drop()\"\"\n",
    "wl_strikes_drop = wl_strikes_join.drop(columns=[\"STATE\", \"FAAREGION\", \"COMMENT\"])\n",
    "\n",
    "# Print out the first five records of the DataFrame\n",
    "wl_strikes_drop.head()"
   ]
  },
  {
   "cell_type": "markdown",
   "metadata": {},
   "source": [
    "### Remove NaN"
   ]
  },
  {
   "cell_type": "markdown",
   "metadata": {},
   "source": [
    "## Calculating new data\n",
    "### Calculating with Expressions\n",
    "We may want to add a new column that is calculated based on other columns. In this example, we create a new column (`SINGLE_OR_MULTI_ENGINE`) of boolean values that tells us if the plane was a single-engine (TRUE) or a multi-engine (FALSE) plane using a comparison operator to test if the value in the column `NUM_ENGS` equals 1."
   ]
  },
  {
   "cell_type": "code",
   "execution_count": null,
   "metadata": {},
   "outputs": [],
   "source": [
    "# Create a new column of boolean values indicating single- or multi-engine\n",
    "wl_strikes_drop['SINGLE_OR_MULTI_ENGINE'] = wl_strikes_drop['NUM_ENGS'] == 1\n",
    "\n",
    "# Print out the new column\n",
    "wl_strikes_drop[['NUM_ENGS', 'SINGLE_OR_MULTI_ENGINE']]"
   ]
  },
  {
   "cell_type": "markdown",
   "metadata": {},
   "source": [
    "### Calculating with apply functions\n",
    "Sometimes you need to create a new column based on more complex manipulation of existing data. In this example, we use the `apply()` method to apply a function along the rows in the column `TIME` to that parses an integer value of the hour from a string containing the time at which a strike occured. We create a new column `HOUR` that contains a numerical representation of the hour in which a strike occured."
   ]
  },
  {
   "cell_type": "code",
   "execution_count": null,
   "metadata": {},
   "outputs": [],
   "source": [
    "# Define a function that takes a time string in the form \"HH:MM\" and returns the\n",
    "# hour as an integer if the hour value is valid\n",
    "def calc_hour(time_str):\n",
    "    hour = time_str.split(':')[0]\n",
    "    if hour.strip(' ') != '':\n",
    "        return int(hour)\n",
    "\n",
    "# Create a new column \"HOUR\" that contains the hour in which a strike occured\n",
    "wl_strikes_drop['HOUR'] = wl_strikes_drop['TIME'].apply(calc_hour)\n",
    "\n",
    "# Print out the new column of data\n",
    "wl_strikes_drop[['TIME','HOUR']]"
   ]
  },
  {
   "cell_type": "markdown",
   "metadata": {},
   "source": [
    "## Replacing data\n",
    "We can replace values in a column based on conditions, similar to \"find and replace.\" In this example, we make our new `SINGLE_OR_MULTI_ENGINE` column more descriptive by changing `True` into \" Single engine\" and `False` into \"Multi engine\"."
   ]
  },
  {
   "cell_type": "code",
   "execution_count": null,
   "metadata": {},
   "outputs": [],
   "source": [
    "# Replace True or False values with new strings, \"Single engine\" or \"Multi engine\"\n",
    "wl_strikes_drop['SINGLE_OR_MULTI_ENGINE'].replace({True: 'Single engine', False: 'Multi engine'}, inplace=True)\n",
    "\n",
    "# Print out the updated column of data\n",
    "wl_strikes_drop['SINGLE_OR_MULTI_ENGINE']"
   ]
  },
  {
   "cell_type": "markdown",
   "metadata": {},
   "source": [
    "## Filtering data\n",
    "### Conditional filtering\n",
    "We can filter our data using conditional statements. This can help us remove unecessary rows of data or observe a specific range of data."
   ]
  },
  {
   "cell_type": "code",
   "execution_count": null,
   "metadata": {},
   "outputs": [],
   "source": [
    "# Filter the data to only see incidents that happened at night\n",
    "night = wl_strikes_drop[wl_strikes_drop['TIME_OF_DAY'] == 'Night']\n",
    "\n",
    "# Print out the filtered data\n",
    "night"
   ]
  },
  {
   "cell_type": "code",
   "execution_count": null,
   "metadata": {},
   "outputs": [],
   "source": [
    "# Filter the data to only see data from 2010 and after\n",
    "data_10s = wl_strikes_drop[wl_strikes_drop['INCIDENT_YEAR'] >= 2010]\n",
    "\n",
    "# Print out the filtered data\n",
    "data_10s"
   ]
  },
  {
   "cell_type": "code",
   "execution_count": null,
   "metadata": {},
   "outputs": [],
   "source": [
    "# Filter the data to only see incidents from 2010 and after that happened at night\n",
    "data_night_10s = wl_strikes_drop[(wl_strikes_drop['INCIDENT_YEAR'] >= 2010) & (wl_strikes_drop['TIME_OF_DAY'] == 'Night')]\n",
    "\n",
    "# Print out the filtered data\n",
    "data_night_10s"
   ]
  },
  {
   "cell_type": "markdown",
   "metadata": {},
   "source": [
    "## Aggregating data\n",
    "### Unique\n",
    "It may be interesting to see the total number of unique species that are recorded in our dataset. We can use the `unique()` method on the `SPECIES` column to create an array of unique species names. \n",
    "\n",
    "The length of this array will provide the number of unique species."
   ]
  },
  {
   "cell_type": "code",
   "execution_count": null,
   "metadata": {},
   "outputs": [],
   "source": [
    "# Create a list of the unique species with unique()\n",
    "unique_species = wl_strikes['SPECIES'].unique()\n",
    "\n",
    "# Print out the unique species\n",
    "unique_species"
   ]
  },
  {
   "cell_type": "code",
   "execution_count": null,
   "metadata": {},
   "outputs": [],
   "source": [
    "# Get the length of the new array (How many unique species are there?)\n",
    "len(unique_species)"
   ]
  },
  {
   "cell_type": "markdown",
   "metadata": {},
   "source": [
    "### Value counts\n",
    "Value counts show how many instances there are of each unique entry in a column. Here, we are interested in seeing how many incidents there are in each month. This could tell us which months have the most accidents.\n",
    "\n",
    "We will specify the `INCIDENT MONTH` column in our dataset and call the method `value_counts()`. This will return a Series with an index label of each unique month number and a value corresponding to the count of that month number in the `INCIDENT MONTH` column."
   ]
  },
  {
   "cell_type": "code",
   "execution_count": null,
   "metadata": {},
   "outputs": [],
   "source": [
    "# Count the occurance of unique values on the column 'INCIDENT_MONTH'\n",
    "month_counts = wl_strikes['INCIDENT_MONTH'].value_counts().sort_index()\n",
    "\n",
    "# Sort the Series by its index using sort_index(), to help view yearly trend\n",
    "month_counts"
   ]
  },
  {
   "cell_type": "markdown",
   "metadata": {},
   "source": [
    "### Minimum, maximum, average\n",
    "We can also calculate aggregates like the minimum, maximum, and mean of values in a DataFrame or Series. Here are a few examples:\n",
    "\n",
    "- `mean()` to find the average of a range\n",
    "- `min()` to find the smallest value\n",
    "- `max()` to find the largest value\n",
    "- `sum()` to sum the values of a range"
   ]
  },
  {
   "cell_type": "code",
   "execution_count": null,
   "metadata": {},
   "outputs": [],
   "source": [
    "# Calculate the minimum values for each column\n",
    "wl_strikes.min()"
   ]
  },
  {
   "cell_type": "code",
   "execution_count": null,
   "metadata": {},
   "outputs": [],
   "source": [
    "# Calculate the average height at which all strikes occurred\n",
    "wl_strikes['HEIGHT'].mean()"
   ]
  },
  {
   "cell_type": "markdown",
   "metadata": {},
   "source": [
    "We can use the `agg()` method to call multiple aggregate functions at once."
   ]
  },
  {
   "cell_type": "code",
   "execution_count": null,
   "metadata": {},
   "outputs": [],
   "source": [
    "# Calculate the minimum, maximum, and average hour in which all strikes occurred\n",
    "wl_strikes['HOUR'].agg(['min', 'max', 'mean'])"
   ]
  },
  {
   "cell_type": "markdown",
   "metadata": {},
   "source": [
    "## Grouping data\n",
    "We may be interested in seeing our data in groups. For example, what does the data look like if we group by month and find the average of each column? Which month has the highest cost for repairs? Are there any other values that trend with cost for repairs?\n",
    "\n",
    "We can do this by calling `groupby()` on our dataset and passing in the column we would like to group by. We will group our data by the column `MONTH`, find the mean of each column in the grouped data, and sort by the `COST_REPAIRS_INFL_ADJ` column to see which month has the highest average cost."
   ]
  },
  {
   "cell_type": "code",
   "execution_count": null,
   "metadata": {},
   "outputs": [],
   "source": [
    "# Group the dataset by \"INCIDENT_MONTH\"\n",
    "by_month = wl_strikes.groupby('INCIDENT_MONTH')\n",
    "\n",
    "# This creates a groupby object that contains information about the groups\n",
    "type(by_month)\n",
    "\n",
    "# Find the mean of the grouped data, then sort by \"COST_REPAIRS_INFL_ADJ\"\n",
    "by_month = by_month.mean().sort_values('COST_REPAIRS_INFL_ADJ')\n",
    "\n",
    "by_month['COST_REPAIRS_INFL_ADJ']"
   ]
  },
  {
   "cell_type": "markdown",
   "metadata": {},
   "source": [
    "You can also use `groupby()` group data by multiple factors. Here we are grouping by `INCIDENT_MONTH` and then `PRECIPITATION` to see the counts for different types of precipitation in each month using the `size()` groupby method."
   ]
  },
  {
   "cell_type": "code",
   "execution_count": null,
   "metadata": {},
   "outputs": [],
   "source": [
    "# Group the data by month and then precipitation and get the count of each type\n",
    "# of precipitation during each month using size()\n",
    "wl_strikes.groupby(['INCIDENT_MONTH', 'PRECIPITATION']).size()"
   ]
  },
  {
   "cell_type": "markdown",
   "metadata": {},
   "source": [
    "## Visualization"
   ]
  }
 ],
 "metadata": {
  "kernelspec": {
   "display_name": "Python 3",
   "language": "python",
   "name": "python3"
  },
  "language_info": {
   "codemirror_mode": {
    "name": "ipython",
    "version": 3
   },
   "file_extension": ".py",
   "mimetype": "text/x-python",
   "name": "python",
   "nbconvert_exporter": "python",
   "pygments_lexer": "ipython3",
   "version": "3.8.5"
  }
 },
 "nbformat": 4,
 "nbformat_minor": 4
}
