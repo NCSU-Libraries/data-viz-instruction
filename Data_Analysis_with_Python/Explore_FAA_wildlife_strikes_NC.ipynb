{
  "nbformat": 4,
  "nbformat_minor": 0,
  "metadata": {
    "colab": {
      "name": "Explore_FAA_wildlife_strikes_NC",
      "provenance": [],
      "collapsed_sections": [
        "eMEAMFj0EcEM",
        "c57cxyvaHj6L",
        "-L7GWzhqHX_x",
        "-zQhpTB4IK3a",
        "ve0udvRCCKUz"
      ],
      "toc_visible": true
    },
    "kernelspec": {
      "name": "python3",
      "display_name": "Python 3"
    }
  },
  "cells": [
    {
      "cell_type": "markdown",
      "metadata": {
        "id": "46iUbWoF4BOV"
      },
      "source": [
        "# Exploring FAA Wildlife Strikes that occurred in North Carolina\n",
        "\n",
        "This notebook introduces some basic concepts and methods for cleaning and exploring a dataset with Python using the data analysis library pandas and the visualization library Matplotlib.\n",
        "\n",
        "We won't be teaching you all about how to use Python in this module, instead this notebook provide example code with thorough documentation and a few hands-on opportunities to write your own code. Any hands-on activity is preceded by a text cell with the title “Try it yourself.” Follow the instructions in this text cell to type out and run the required code in the following code cell. A solution for each “Try it yourself” section is provided under the hidden \"Solution\" section.\n",
        "\n",
        "The dataset used in this notebook comes from the [Federal Aviation Administration (FAA) Wildlife Strikes Database](https://wildlife.faa.gov/search), a database containing records of reported wildlife strikes with aircraft. The dataset has been filtered to include only wildlife strikes that have occured in the state of North Carolina."
      ]
    },
    {
      "cell_type": "markdown",
      "metadata": {
        "id": "hq-kf2ZQBri6"
      },
      "source": [
        "## Credit\n",
        "\n",
        "These materials were originally developed for Engineering REU Library Modules by Claire Cahoon, Walt Gurley, and Natalia Lopez in the [Data & Visualization Services Department](https://www.lib.ncsu.edu/department/data-visualization-services) at the [NC State University Libraries](https://www.lib.ncsu.edu/)."
      ]
    },
    {
      "cell_type": "markdown",
      "metadata": {
        "id": "Iy_IM7rvMqH-"
      },
      "source": [
        "## About Jupyter Notebook and Google Colab\n",
        "\n",
        "Jupyter notebooks are a way to write and run Python code in an interactive way. They're quickly becoming a standard way of putting together data, code, and written explanations or visualizations into a single document and sharing that. There are a lot of ways that you can run Jupyter notebooks, including just locally on your computer, but you wil be using Google's Colaboratory notebook platform for this module.  Colaboratory is “a Google research project created to help disseminate machine learning education and research.”  If you would like to know more about Colaboratory in general, you can visit the [Welcome Notebook](https://colab.research.google.com/notebooks/welcome.ipynb).\n",
        "\n",
        "**In short, this notebook consists of text cells and code cells. You will run code cells by pressing the \"play\" icon in the top-left corner of a code cell. Output from a cell will be printed below the code cell.**\n",
        "\n",
        "**Be sure to run code cells sequentially, from top to bottom, as the output from one cell my be required as input to a following cell.**"
      ]
    },
    {
      "cell_type": "markdown",
      "metadata": {
        "id": "K1QD9jJmyLZ0"
      },
      "source": [
        "## Import the pandas library\n",
        "\n",
        "Begin by importing the pandas library. The pandas library provides functionality for importing, manipulating, and exploring data in Python.\n",
        "\n",
        "We import the lbrary and use the alias `pd` to access the functionality of the pandas library by calling `pd.[function()]`. For example, we can read in a CSV file by calling the function `pd.read_csv('path_to_file.csv')`.\n",
        "\n",
        "Run the Python code cell below be pressing the play button in the upper-left corner of the cell."
      ]
    },
    {
      "cell_type": "code",
      "metadata": {
        "id": "PDoDt0yF4Pxs"
      },
      "source": [
        "# Import the Pandas library as pd (callable in our code as pd)\n",
        "import pandas as pd"
      ],
      "execution_count": null,
      "outputs": []
    },
    {
      "cell_type": "markdown",
      "metadata": {
        "id": "e-XZ11Ry0_ls"
      },
      "source": [
        "## Import the North Carolina FAA Wildlife Strikes dataset\n",
        "\n",
        "The dataset consists of a CSV file that contains records of wildlife strikes that have occured with aircraft (i.e., recorded instances where animals have been hit by an aircraft) in North Carolina. Each row in the dataset contains the information associated with a single reported strike, while each column contains a specific criteria of a strike report (e.g., date of occurance, airport, species of animal, etc.).\n",
        "\n",
        "The CSV file is hosted online and is accessible through the URL stored as a string in the variable `file_url`. \n",
        "\n",
        "The pandas library provides the method `read_csv` to conveniently read a CSV file and store it in a pandas data structure. Our CSV file consists of a 2-dimensional dataset (multiple rows and columns) and is imported as a [pandas DataFrame](https://pandas.pydata.org/pandas-docs/stable/reference/api/pandas.DataFrame.html) and stored in the variable `wl_strikes`.\n",
        "\n",
        "As a pandas DataFrame, with `wl_strikes`, we have access to all of the pandas DataFrame methods and properties by calling `wl_strikes.[function()]` or `wl_strikes.[property]`"
      ]
    },
    {
      "cell_type": "code",
      "metadata": {
        "id": "cPSnhS9w4TNy"
      },
      "source": [
        "# Variable containing the string pointing to the location of the data file\n",
        "file_url = 'https://raw.githubusercontent.com/NCSU-Libraries/data-viz-instruction/main/Data_Analysis_with_Python/FAA_wildlife_strikes_NC.csv'\n",
        "\n",
        "# Read in the CSV file and store it as a pandas dataframe in the variable wl_strikes\n",
        "wl_strikes = pd.read_csv(file_url)"
      ],
      "execution_count": null,
      "outputs": []
    },
    {
      "cell_type": "markdown",
      "metadata": {
        "id": "dZyDP0nWGPqW"
      },
      "source": [
        "## Preview the dataset\n",
        "\n",
        "It is advisable to always check the data in the DataFrame you just created to ensure it was loaded correctly and the data matches what you expect. Below are a few ways to preview some of the values and properties of the dataset and to quickly summerize the data."
      ]
    },
    {
      "cell_type": "markdown",
      "metadata": {
        "id": "65q7uqNOG224"
      },
      "source": [
        "### Observe sample rows from the dataset\n",
        "\n",
        "Print out the first five rows of the dataset using the [`head()` method](https://pandas.pydata.org/pandas-docs/stable/reference/api/pandas.DataFrame.head.html) on the `wl_strikes` DataFrame.\n",
        "\n",
        "From the output you can see that our dataset contains information such as the date and time of a reported strike and related information such as the aircraft type, damage location on the aircraft, the species of wildlife, etc. You can scroll right and left in the printed out table to view the columns."
      ]
    },
    {
      "cell_type": "code",
      "metadata": {
        "colab": {
          "base_uri": "https://localhost:8080/",
          "height": 695
        },
        "id": "AC5CACr_6Jiv",
        "outputId": "b73e4794-2706-44a8-cf69-b8682216dcb4"
      },
      "source": [
        "# Print out the first five rows of the dataset\n",
        "wl_strikes.head()"
      ],
      "execution_count": null,
      "outputs": []
    },
    {
      "cell_type": "markdown",
      "metadata": {
        "id": "E4XQtlHnFSDU"
      },
      "source": [
        "#### Try it yourself: `sample()`\n",
        "\n",
        "> This is an opportunity for you to practice some of the concepts introduced so far. Read the directions below and use the examples above to write code that produces the expected results. You can check your code against the solution provided in the hidden **solution section** below (click the triangle next to the Solution header to expand the hidden cells).\n",
        "\n",
        "**Print out a random sample of 5 rows using the [`sample()` method](https://pandas.pydata.org/pandas-docs/stable/reference/api/pandas.DataFrame.sample.html) on the `wl_strikes` dataframe.**\n",
        "\n",
        "*Tip: To select **n** number of rows using the `sample()` method you pass the argument **n** into the method call. For example, to randomly sample 2 rows from a dataframe you would call `sample(2)`.*"
      ]
    },
    {
      "cell_type": "code",
      "metadata": {
        "id": "hzy-misoFf9W"
      },
      "source": [
        "# Print out a random sample of five rows of the dataset\n"
      ],
      "execution_count": null,
      "outputs": []
    },
    {
      "cell_type": "markdown",
      "metadata": {
        "id": "eMEAMFj0EcEM"
      },
      "source": [
        "#### Solution: `sample()`"
      ]
    },
    {
      "cell_type": "code",
      "metadata": {
        "id": "29oTTXPzEhBq",
        "colab": {
          "base_uri": "https://localhost:8080/",
          "height": 0
        },
        "outputId": "c2c6276a-26c8-4a19-b523-6f225e2f8414"
      },
      "source": [
        "# Print out a random sample of five rows of the dataset\n",
        "wl_strikes.sample(5)"
      ],
      "execution_count": null,
      "outputs": []
    },
    {
      "cell_type": "markdown",
      "metadata": {
        "id": "ElhypKDSy_0i"
      },
      "source": [
        "### Observe a specific column from the dataset\n",
        "\n",
        "You can select a single column of data from a DataFrame by using an index reference of the column's name: `DataFrame['column name']`.\n",
        "\n",
        "Print out the values contained in the \"INCIDENT_MONTH\" column of the `wl_strikes()` DataFrame using an index reference of the column name. Note that this returns a new pandas data structure called a [Series](https://pandas.pydata.org/pandas-docs/stable/reference/api/pandas.Series.html), a one-dimensional array (one column, multiple rows)."
      ]
    },
    {
      "cell_type": "code",
      "metadata": {
        "colab": {
          "base_uri": "https://localhost:8080/"
        },
        "id": "hei00r6H0Kla",
        "outputId": "e622be16-b1ff-41ff-bc40-90e0148af113"
      },
      "source": [
        "# Print out the values contained in the 'INCIDENT_MONTH' column\n",
        "wl_strikes['INCIDENT_MONTH']"
      ],
      "execution_count": null,
      "outputs": []
    },
    {
      "cell_type": "markdown",
      "metadata": {
        "id": "c_WddfMsG9N-"
      },
      "source": [
        "### Summarize the data\n",
        "\n",
        "Quickly summarizing the data provides some insight into the size and type of data in the dataset.\n",
        "\n",
        "Get the number of rows and columns in a dataframe using the [`shape` attribute](https://pandas.pydata.org/pandas-docs/stable/reference/api/pandas.DataFrame.shape.html) of the `wl_strikes` DataFrame. This is returned as (number of rows, number of columns)"
      ]
    },
    {
      "cell_type": "code",
      "metadata": {
        "colab": {
          "base_uri": "https://localhost:8080/"
        },
        "id": "URGmYgRAHubS",
        "outputId": "329f2007-2656-4790-c273-7dd0348fc960"
      },
      "source": [
        "# Print out the shape of the dataset (number of rows, number of columns)\n",
        "wl_strikes.shape"
      ],
      "execution_count": null,
      "outputs": []
    },
    {
      "cell_type": "markdown",
      "metadata": {
        "id": "zQimO0JBJLBI"
      },
      "source": [
        "Use the [`describe()` method](https://pandas.pydata.org/pandas-docs/stable/reference/api/pandas.DataFrame.describe.html) to generate some basic statistics (e.g., count, mean, minimum, maximum) on each column of the `wl_strikes` dataframe."
      ]
    },
    {
      "cell_type": "code",
      "metadata": {
        "colab": {
          "base_uri": "https://localhost:8080/",
          "height": 334
        },
        "id": "jESVNYUWJEvt",
        "outputId": "e934a7d7-dc13-4a32-9467-691ed322a8d1"
      },
      "source": [
        "# Generate basic statistics on each column of data\n",
        "wl_strikes.describe()"
      ],
      "execution_count": null,
      "outputs": []
    },
    {
      "cell_type": "markdown",
      "metadata": {
        "id": "1G9C2hq500d4"
      },
      "source": [
        "You can also perform summaries on specific columns of data by first selecting the column you wish to observe.\n",
        "\n",
        "Use the [`unique()` method](https://pandas.pydata.org/pandas-docs/stable/reference/api/pandas.DataFrame.nunique.html) on the \"INCIDENT_MONTH\" column of the `wl_strikes` dataframe to observe the unqiue values contained in this column (this should be the values 1-12, representing the months January-December)."
      ]
    },
    {
      "cell_type": "code",
      "metadata": {
        "colab": {
          "base_uri": "https://localhost:8080/"
        },
        "id": "509m3tuE2PGV",
        "outputId": "0655c2a4-4e29-4275-e1ef-d046d3aa7260"
      },
      "source": [
        "# Print the unique values contained in the \"INCIDENT_MONTH\" column\n",
        "wl_strikes['INCIDENT_MONTH'].unique()"
      ],
      "execution_count": null,
      "outputs": []
    },
    {
      "cell_type": "markdown",
      "metadata": {
        "id": "fgqu3XIfJkrh"
      },
      "source": [
        "#### Try it yourself: `value_counts()`\n",
        "\n",
        "Use the [`value_counts()`](https://pandas.pydata.org/pandas-docs/stable/reference/api/pandas.DataFrame.value_counts.html) property on the column 'INCIDENT_MONTH' of the `wl_strikes` DataFrame to get the counts of unique values from this column. This will provide the total number of times a unique value occurs in this column (e.g., how many strikes occured in the month of January over the entire dataset)"
      ]
    },
    {
      "cell_type": "code",
      "metadata": {
        "id": "Hu74G4S5Hjhu"
      },
      "source": [
        "# Print out the value counts of unique values from the \"INCIDENT_MONTH\" column\n"
      ],
      "execution_count": null,
      "outputs": []
    },
    {
      "cell_type": "markdown",
      "metadata": {
        "id": "c57cxyvaHj6L"
      },
      "source": [
        "#### Solution: `value_counts()`"
      ]
    },
    {
      "cell_type": "code",
      "metadata": {
        "id": "is-dN04YJ6vP",
        "colab": {
          "base_uri": "https://localhost:8080/"
        },
        "outputId": "5e0a6e78-2496-4673-c1eb-9fe167e11a47"
      },
      "source": [
        "# Print out the value counts of unique values from the \"INCIDENT_MONTH\" column\n",
        "wl_strikes['INCIDENT_MONTH'].value_counts()"
      ],
      "execution_count": null,
      "outputs": []
    },
    {
      "cell_type": "markdown",
      "metadata": {
        "id": "-SljTZCr1sx8"
      },
      "source": [
        "## Clean the dataset to prepare it for analysis\n",
        "\n",
        "Often, the dataset you download in its original form doesn't fit your data analysis needs exactly. You may want to make surface-level changes to this \"raw\" dataset so that it's easier to work with. This process is called \"cleaning\" your data, or preparing it for data analysis.\n",
        "\n",
        "The following steps show a few common actions you may want to take while cleaning data. It is important to remember that as much as possible, cleaning data should not change the original dataset values in any way.\n",
        "\n",
        "As we clean our dataset we will assign the altered dataset to new variables to preserve the original dataset and prevent possible errors."
      ]
    },
    {
      "cell_type": "markdown",
      "metadata": {
        "id": "7rigiVVn3PpB"
      },
      "source": [
        "### Rename column headers\n",
        "\n",
        "In this data, the columns are named using a code. We can use the [data dictionary](https://wildlife.faa.gov/assets/fieldlist.pdf) to match up the column header names with what they stand for to make it easier for us to read.\n",
        "\n",
        "We can use the [`rename()` method](https://pandas.pydata.org/pandas-docs/stable/reference/api/pandas.DataFrame.rename.html) on our `wl_strikes` dataframe to rename column headers of our dataset. *Note that this change is assigned to a new variable, `wl_strikes_rename`.*"
      ]
    },
    {
      "cell_type": "code",
      "metadata": {
        "id": "kPib5An85g_f",
        "colab": {
          "base_uri": "https://localhost:8080/"
        },
        "outputId": "0e77590b-da92-4ed9-b9e7-a274e4cb9a4e"
      },
      "source": [
        "#Renaming columns: change the name from \"REG\" to \"AIRCRAFT_REGISTRATION\"\n",
        "wl_strikes_rename = wl_strikes.rename(columns={'REG':'AIRCRAFT_REGISTRATION'})\n",
        "\n",
        "# Print out the dataset column headers\n",
        "wl_strikes_rename.columns"
      ],
      "execution_count": null,
      "outputs": []
    },
    {
      "cell_type": "markdown",
      "metadata": {
        "id": "79_FphLGBvsb"
      },
      "source": [
        "#### Try it yourself: `rename()`\n",
        "\n",
        "Use the [data dictionary](https://wildlife.faa.gov/assets/fieldlist.pdf) to rename the column \"FLT\" to a more descriptive name. Store the dataframe with the new column name in the variable `wl_strikes_rename2`. Make sure to call the rename on the dataframe created in the previous step, `wl_strikes_rename`."
      ]
    },
    {
      "cell_type": "code",
      "metadata": {
        "id": "B5OsKul8HWVo"
      },
      "source": [
        "# Use the data dictionary to rename \"FLT\" and store the new dataframe in the\n",
        "# variable wl_strikes_rename2\n"
      ],
      "execution_count": null,
      "outputs": []
    },
    {
      "cell_type": "markdown",
      "metadata": {
        "id": "-L7GWzhqHX_x"
      },
      "source": [
        "#### Solution: `rename()`"
      ]
    },
    {
      "cell_type": "code",
      "metadata": {
        "id": "otq0QoA-6cAC"
      },
      "source": [
        "# Use the data dictionary to rename \"FLT\" and store the new dataframe in the\n",
        "# variable wl_strikes_rename2\n",
        "wl_strikes_rename2 = wl_strikes_rename.rename(columns={'FLT': \"FLIGHT_NUM\"})"
      ],
      "execution_count": null,
      "outputs": []
    },
    {
      "cell_type": "markdown",
      "metadata": {
        "id": "LLUn6G-Z30Xs"
      },
      "source": [
        "### Removing spaces from column headers\n",
        "\n",
        "When we renamed the column headers, we didn't use any spaces or special characters. This is to keep the data easily read by the computer. There is one column header name with a space, so we need to change it to an underscore."
      ]
    },
    {
      "cell_type": "markdown",
      "metadata": {
        "id": "UHnMhe33IFGo"
      },
      "source": [
        "#### Try it yourself: `rename()` 2\n",
        "\n",
        "Using the same method for renaming the column headers above, rename the column \"ENROUTE STATE\" to \"ENROUTE_STATE\" and store the new dataframe in the variable `wl_strikes_rename3`. Make sure to call the rename on the dataframe created in the previous step, `wl_strikes_rename2`."
      ]
    },
    {
      "cell_type": "code",
      "metadata": {
        "id": "kcuyOa2uIKcW"
      },
      "source": [
        "# Find the column labeled \"ENROUTE STATE\" and change the name to \"ENROUTE_STATE\"\n",
        "# Store the updated dataframe in the variable wl_strikes_rename3\n"
      ],
      "execution_count": null,
      "outputs": []
    },
    {
      "cell_type": "markdown",
      "metadata": {
        "id": "-zQhpTB4IK3a"
      },
      "source": [
        "#### Solution: `rename()` 2"
      ]
    },
    {
      "cell_type": "code",
      "metadata": {
        "id": "4fjF7n9Vniv2"
      },
      "source": [
        "# Find the column labeled \"ENROUTE STATE\" and change the name to \"ENROUTE_STATE\"\n",
        "# Store the updated dataframe in the variable wl_strikes_rename3\n",
        "wl_strikes_rename3 = wl_strikes_rename2.rename(columns={'ENROUTE STATE': 'ENROUTE_STATE'})"
      ],
      "execution_count": null,
      "outputs": []
    },
    {
      "cell_type": "markdown",
      "metadata": {
        "id": "GcwpUDzN34rj"
      },
      "source": [
        "### Removing unnecessary columns\n",
        "There may be columns in the dataset that you do not plan to use. You can delete those so that the size of the file is smaller and easier to work with.\n",
        "\n",
        "We will use the [`drop()` method](https://pandas.pydata.org/pandas-docs/stable/reference/api/pandas.DataFrame.drop.html) to remove the \"COMMENT\" column since it is not relevant to the analyses we will conduct. Store the new dataframe in a variable named `wl_strikes_drop`. Make sure to call `drop()` on the dataframe created in the previous step `wl_strikes_rename3`."
      ]
    },
    {
      "cell_type": "code",
      "metadata": {
        "colab": {
          "base_uri": "https://localhost:8080/"
        },
        "id": "z1YZ_4pE7ZBU",
        "outputId": "456dc48a-d4a7-4be2-ad63-d020af385b92"
      },
      "source": [
        "# Remove the unnecessary column \"COMMENT\" \n",
        "wl_strikes_drop = wl_strikes_rename3.drop(columns=['COMMENT'])\n",
        "\n",
        "# Print out the dataset column headers\n",
        "wl_strikes_drop.columns"
      ],
      "execution_count": null,
      "outputs": []
    },
    {
      "cell_type": "markdown",
      "metadata": {
        "id": "1gPPapfsAMjI"
      },
      "source": [
        "#### Try it yourself: `drop()`\n",
        "\n",
        "You can drop multiple columns at one time by providing a list of multiple column names into the `columns` keyword argument. In the previous example we only passed in a list with one column name, \"COMMENT\".\n",
        "\n",
        "Use the `drop()` method to remove the columns dealing with the strike and damage location on an aircraft. These column names are stored as a list in the variable `drop_columns`. Store the new DataFrame with the dropped columns in the variable `wl_strikes_drop2`. Make sure to call `drop()` on the dataframe created in the previous step `wl_strikes_drop`."
      ]
    },
    {
      "cell_type": "code",
      "metadata": {
        "id": "_1oM_dvBBHBh"
      },
      "source": [
        "# A list of column names to be dropped from the dataset\n",
        "drop_columns = ['STR_RAD', 'DAM_RAD', 'STR_WINDSHLD', 'DAM_WINDSHLD', 'STR_NOSE',\n",
        "                'DAM_NOSE', 'STR_ENG1','DAM_ENG1', 'STR_ENG2', 'DAM_ENG2',\n",
        "                'STR_ENG3', 'DAM_ENG3', 'STR_ENG4', 'DAM_ENG4', 'STR_PROP',\n",
        "                'DAM_PROP', 'STR_WING_ROT', 'DAM_WING_ROT', 'STR_FUSE',\n",
        "                'DAM_FUSE', 'STR_LG', 'DAM_LG', 'STR_TAIL', 'DAM_TAIL',\n",
        "                'STR_LGHTS', 'DAM_LGHTS', 'STR_OTHER', 'DAM_OTHER',\n",
        "                'OTHER_SPECIFY', 'EFFECT', 'EFFECT_OTHER']\n",
        "\n",
        "# Drop the columns dealing with the strike and damage location on an aircraft\n",
        "# Store the updated dataframe in the variable wl_strikes_drop2\n",
        "\n",
        "\n",
        "# Print out the dataset column headers\n"
      ],
      "execution_count": null,
      "outputs": []
    },
    {
      "cell_type": "markdown",
      "metadata": {
        "id": "ve0udvRCCKUz"
      },
      "source": [
        "#### Solution: `drop()`"
      ]
    },
    {
      "cell_type": "code",
      "metadata": {
        "colab": {
          "base_uri": "https://localhost:8080/"
        },
        "id": "uQ6iyN70COky",
        "outputId": "68b2ffd9-e1cd-4e0f-bae8-f53e09aec715"
      },
      "source": [
        "# A list of column names to be dropped from the dataset\n",
        "drop_columns = ['STR_RAD', 'DAM_RAD', 'STR_WINDSHLD', 'DAM_WINDSHLD', 'STR_NOSE',\n",
        "                'DAM_NOSE', 'STR_ENG1','DAM_ENG1', 'STR_ENG2', 'DAM_ENG2',\n",
        "                'STR_ENG3', 'DAM_ENG3', 'STR_ENG4', 'DAM_ENG4', 'STR_PROP',\n",
        "                'DAM_PROP', 'STR_WING_ROT', 'DAM_WING_ROT', 'STR_FUSE',\n",
        "                'DAM_FUSE', 'STR_LG', 'DAM_LG', 'STR_TAIL', 'DAM_TAIL',\n",
        "                'STR_LGHTS', 'DAM_LGHTS', 'STR_OTHER', 'DAM_OTHER',\n",
        "                'OTHER_SPECIFY', 'EFFECT', 'EFFECT_OTHER']\n",
        "\n",
        "# Drop the columns dealing with the strike and damage location on an aircraft\n",
        "# Store the updated dataframe in the variable wl_strikes_drop2\n",
        "wl_strikes_drop2 = wl_strikes_drop.drop(columns=drop_columns)\n",
        "\n",
        "# Print out the dataset column headers\n",
        "wl_strikes_drop2.columns"
      ],
      "execution_count": null,
      "outputs": []
    },
    {
      "cell_type": "markdown",
      "metadata": {
        "id": "PTgkmZxEOIch"
      },
      "source": [
        "### Combining categories\n",
        "\n",
        "Sometimes the dataset is more specific than we need. In this case, if a species was unknown, the reporter had the option to enter the general size of the animal. Unknown animals are listed as \"Unknown bird,\" \"Unknown bird - small,\" \"Unknown bird - medium,\" etc. This may be helpful, but for our analyses, we want them all labeled as \"Unknown flying animal\".\n",
        "\n",
        "First, we will observe the original species data to determine the number of species types that start with the word \"Unknown\" and the number of records with these labels using the dataframe method `value_counts()` and then the [`filter()` method](https://pandas.pydata.org/pandas-docs/stable/reference/api/pandas.DataFrame.filter.html) using a regular expression on the results. The final output of these operations will provide a listing of the values of \"Unknown\" types and the number of records labeled with these types."
      ]
    },
    {
      "cell_type": "code",
      "metadata": {
        "colab": {
          "base_uri": "https://localhost:8080/"
        },
        "id": "msQRih4V7bQL",
        "outputId": "24d9690c-281d-481f-c5cc-0c970358b762"
      },
      "source": [
        "# Select the data from the \"SPECIES\" column\n",
        "species = wl_strikes_drop['SPECIES']\n",
        "\n",
        "# Get the value counts of each unique species in species\n",
        "uniqueSpeciesCounts = species.value_counts()\n",
        "\n",
        "# Filter the unique species counts to include only categories that contain the\n",
        "# word \"Unknown\"\n",
        "uniqueSpeciesCounts.filter(regex='Unknown.*')"
      ],
      "execution_count": null,
      "outputs": []
    },
    {
      "cell_type": "markdown",
      "metadata": {
        "id": "bWdXat9LNE06"
      },
      "source": [
        "From the output above you can see that there are over 2,500 animal strikes that have a 'SPECIES' label of some type of unknown bird or unknown bat.\n",
        "\n",
        "Next, we will create a new DataFrame `wl_strikes_clean` that replaces all instances of \"SPECIES\" labels that begin with the string \"Unknown\" with the new category \"Unknown flying animal.\" To do this we will use the [`replace() method`](https://pandas.pydata.org/pandas-docs/stable/reference/api/pandas.DataFrame.replace.html) on the `wl_strikes_drop2` DataFrame."
      ]
    },
    {
      "cell_type": "code",
      "metadata": {
        "colab": {
          "base_uri": "https://localhost:8080/"
        },
        "id": "2rsLLXpX97Iu",
        "outputId": "595cc2a1-8543-48c2-8d31-04ec464553ea"
      },
      "source": [
        "# Replace all values in the \"SPECIES\" column containing the word \"Unknown\" with\n",
        "# the value \"Unknown flying animal\"\n",
        "wl_strikes_clean = wl_strikes_drop2.replace({'SPECIES': 'Unknown.*'}, 'Unknown flying animal', regex=True)\n",
        "\n",
        "# Print out the value counts for unique species in the updated dataset\n",
        "wl_strikes_clean['SPECIES'].value_counts()"
      ],
      "execution_count": null,
      "outputs": []
    },
    {
      "cell_type": "markdown",
      "metadata": {
        "id": "rmcETwSNBRYf"
      },
      "source": [
        "## Exploratory analysis of the dataset\n",
        "\n",
        "After cleaning our observing and cleaning our dataset it is now easier to conduct analyses on our data. We will conduct some numerical and visual analyses that will help us explore questions such as:\n",
        "\n",
        "- How many unique species have been identified in the data set?\n",
        "- Which species are struck the most?\n",
        "- How have number of strikes changed over time?\n",
        "- Are there times of the year when most strikes occur?\n",
        "- How frequently do land-based animals get impacted by this issue?\n",
        "\n",
        "We will be using the [matplotlib visualization library](https://matplotlib.org/index.html) to create charts.\n",
        "\n",
        "Start by importing the [pyplot interface](https://matplotlib.org/api/_as_gen/matplotlib.pyplot.html#module-matplotlib.pyplot) as `plt` to access the plotting functionality of matplotlib. We will also set some basic graphic paramenters for our plots–the overall [style of the plots and the size of the plots](https://matplotlib.org/3.3.3/tutorials/introductory/customizing.html).\n",
        "\n",
        "For all of our charts we will use the matplotlib integration with pandas data structures by calling the method [`plot()`](https://pandas.pydata.org/pandas-docs/stable/reference/api/pandas.DataFrame.plot.html#pandas.DataFrame.plot) on a DataFrame or Series."
      ]
    },
    {
      "cell_type": "code",
      "metadata": {
        "id": "YcwhyIOgklia"
      },
      "source": [
        "# Import the matplotlib pyplot interface as plt (callable in our code as plt)\n",
        "import matplotlib.pyplot as plt\n",
        "\n",
        "# Set the graphic style of the plots\n",
        "plt.style.use('seaborn')\n",
        "\n",
        "# Set the size of the plots\n",
        "plt.rcParams['figure.figsize'] = [10, 8]"
      ],
      "execution_count": null,
      "outputs": []
    },
    {
      "cell_type": "markdown",
      "metadata": {
        "id": "n95nSVZ7WuAj"
      },
      "source": [
        "### Number of unique species\n",
        "\n",
        "It may be interesting to see the total number of unique species that are recorded in our dataset. We can use the `unique()` method on the \"SPECIES\" column to create a Series of unique species labels, stored in the variable `unique_species`. The length of this Series will provide the number of unique labels. We call [the built-in Python function `len()`](https://docs.python.org/3/library/functions.html#len) and pass in the `unique_species` variable to obtain the length of the Series.\n",
        "\n",
        "*Remember, one of our labels is \"Unknown animal.\" We probably don't want to include this label in our count.*"
      ]
    },
    {
      "cell_type": "code",
      "metadata": {
        "colab": {
          "base_uri": "https://localhost:8080/"
        },
        "id": "xCb_7nR57doB",
        "outputId": "25649c27-e431-46f3-87df-cfb7f84f0eb7"
      },
      "source": [
        "# Get the unique species names from the \"SPECIES\" column\n",
        "unique_species = wl_strikes_clean['SPECIES'].unique()\n",
        "\n",
        "# Print the length of the \"unique_species\" list (the number of unique species)\n",
        "# minus one (to account for the \"Unknown animal\" label we created earlier)\n",
        "len(unique_species) - 1"
      ],
      "execution_count": null,
      "outputs": []
    },
    {
      "cell_type": "markdown",
      "metadata": {
        "id": "TPCNvJGq_Frv"
      },
      "source": [
        "### Top ten occuring species\n",
        "\n",
        "Create a [horizontal bar graph](https://matplotlib.org/3.1.1/api/_as_gen/matplotlib.pyplot.barh.html) to show the top ten species that are most involved in strikes and the count of records of each.\n",
        "\n",
        "**Questions to consider:**\n",
        "\n",
        "- What is the fifth most struck species?\n",
        "- Approximately how many times has the tenth most struck species been involved in aircraft strikes?\n",
        "\n",
        "Similar to our previous analysis of unique species, we will aggregate the \"SPECIES\" column to obtain the unique species, but also obtain the total counts of each in the column using the `value_counts()` method. We will store the resulting Series in the variable `unique_species_count()`. We must then remove the value with the label \"Unknown flying animal\" so we only include identifiable species using the `drop()` method. In this case, we will overwrite the existing `unique_species_count` variable by reassigning the output to the same variable name.\n",
        "\n",
        "Once the data is formatted we create a horizontal bar plot of the first ten values of `unique_species_count` by first [slicing a range using the index reference](https://pandas.pydata.org/pandas-docs/stable/user_guide/indexing.html#slicing-ranges) `[:10]` to select the first ten values in the Series and then calling the `plot()` method with the keyword argument `kind='barh'`."
      ]
    },
    {
      "cell_type": "code",
      "metadata": {
        "colab": {
          "base_uri": "https://localhost:8080/",
          "height": 501
        },
        "id": "dXFMvwqC9a47",
        "outputId": "940f3d46-2b71-4a55-a1ea-6f9bfc349590"
      },
      "source": [
        "# Get the number of strike records for each species type\n",
        "unique_species_count = wl_strikes_clean['SPECIES'].value_counts()\n",
        "\n",
        "# Drop the value from the Series with the label \"Unknown animal\"\n",
        "unique_species_count = unique_species_count.drop(labels='Unknown flying animal')\n",
        "\n",
        "# Select the first ten values from the unique species count list and create a \n",
        "# horizontal bar chart (\"barh\") with the labels (species name) along the vertical axis\n",
        "# and value counts (number of records) along the horizontal axis\n",
        "unique_species_count[:10].plot(kind='barh')"
      ],
      "execution_count": null,
      "outputs": []
    },
    {
      "cell_type": "markdown",
      "metadata": {
        "id": "XvZcfoB2WxTJ"
      },
      "source": [
        "### Incidents per year\n",
        "\n",
        "Next, we will create a [line chart](https://matplotlib.org/3.1.0/api/_as_gen/matplotlib.pyplot.plot.html) to observe the change in the number of wildlife strikes per year over the timeframe of our dataset.\n",
        "\n",
        "We will first group the dataset based on the recorded \"INCIDENT_YEAR\" and generate the count of records with this value, stored in the variable `strikes_per_year`. We then sort the values based on the index, the year of occurrence, so that our data is sorted by year and not value counts."
      ]
    },
    {
      "cell_type": "code",
      "metadata": {
        "colab": {
          "base_uri": "https://localhost:8080/"
        },
        "id": "vzBQyNNvYvMy",
        "outputId": "b85e2f55-997a-4b4e-c5bb-57d3e786dbdf"
      },
      "source": [
        "# Get the number of strikes that occurred in each year\n",
        "strikes_per_year = wl_strikes_clean['INCIDENT_YEAR'].value_counts()\n",
        "\n",
        "# Sort the new Series by the index values, the year\n",
        "strikes_per_year = strikes_per_year.sort_index()\n",
        "\n",
        "# Print the series\n",
        "strikes_per_year"
      ],
      "execution_count": null,
      "outputs": []
    },
    {
      "cell_type": "markdown",
      "metadata": {
        "id": "EdcHUg1yKPuN"
      },
      "source": [
        "We will use the matplotlib \"line\" plot type to create a line graph that shows the change in total strikes per year over the year range of our dataset.\n",
        "\n",
        "**Questions to consider:**\n",
        "\n",
        "- What is the general trend in wildlife strikes over time? What could this trend be related to?\n",
        "- Should there be any considerations for the data from the years 1985 and 2020? Why would the year 2020 be so low relative to previous years? Could the 1985 value be considered an outlier?\n",
        "\n",
        "To create the line plot we call the `plot()` method on the `strikes_per_year` Series and pass in the keyword arguments `kind='line` and `style='o-'`. The style arguments are shorthand to indicate that we want our data points (markers) to be represented by a circle and conected by a solid line. You can find other style arguments for formatting markers and lines in the [matplotlib plot documentation](https://matplotlib.org/2.1.2/api/_as_gen/matplotlib.pyplot.plot.html)."
      ]
    },
    {
      "cell_type": "code",
      "metadata": {
        "colab": {
          "base_uri": "https://localhost:8080/",
          "height": 501
        },
        "id": "rOiz7p7VaFzS",
        "outputId": "898c332d-f106-49e3-af54-e833de486b5c"
      },
      "source": [
        "# Plot the total strikes per year using a solid line connecting data points and\n",
        "# a solid circle representing a data point\n",
        "strikes_per_year.plot(kind='line', style='o-')"
      ],
      "execution_count": null,
      "outputs": []
    },
    {
      "cell_type": "markdown",
      "metadata": {
        "id": "aVChLqmCW4v4"
      },
      "source": [
        "### Incidents by month\n",
        "\n",
        "We will now create a bar chart to observe any patterns that might occur at the temporal level of month. \n",
        "\n",
        "**Questions to consider:**\n",
        "\n",
        "- Are there any observable patterns in wildlife strikes by month?\n",
        "- Could there be a relationship between bird migration occurance (March-April and August-November) and number of strikes? (See [Bird Migration and Areas With Sensitive Fauna](https://www.faa.gov/air_traffic/publications/atpubs/aip_html/part2_enr_section_5.6.html))\n",
        "\n",
        "We will again use the `value_counts()` method, this time on the \"INCIDENT_MONTH\" column to get the total strikes that have occured in each month, stored in `strikes_by_month`. We also need to sort the resultant data by its index labels so the data is sorted by month number (1-12).\n",
        "\n",
        "We create the bar plot by calling the `plot()` method on `strikes_by_month` using the keword arguments `kind='bar'` and `rot=0.5`. The `rot` keyword specifies the rotation of the x-axis tick labels (0.5 = 90 degrees rotation)."
      ]
    },
    {
      "cell_type": "code",
      "metadata": {
        "colab": {
          "base_uri": "https://localhost:8080/",
          "height": 501
        },
        "id": "AXs7G1gGgWWH",
        "outputId": "eb89871a-f8ff-483d-ecb9-04a59d4641c8"
      },
      "source": [
        "# Get the number of strikes that occured during a specific month\n",
        "strikes_by_month = wl_strikes_clean['INCIDENT_MONTH'].value_counts()\n",
        "\n",
        "# Sort the new Series by the index values, the month number\n",
        "strikes_by_month = strikes_by_month.sort_index()\n",
        "\n",
        "# Create a bar chart with the data, rotate the x-axis tick labels by 90 degrees\n",
        "strikes_by_month.plot(kind='bar', rot=.5)"
      ],
      "execution_count": null,
      "outputs": []
    },
    {
      "cell_type": "markdown",
      "metadata": {
        "id": "oUQcvquPfXfw"
      },
      "source": [
        "\n",
        "### Compare wildlife strikes between flying animals and land animals\n",
        "\n",
        "Finally, let's compare wildlife strikes based on the catagorization of animals that can or cannot fly, flying animals vs land animals.\n",
        "\n",
        "Land animals are identified by a SPECIES_ID that begins with the number 1 or the number 2. This is based on the International Civil Aviation Organization (ICAO) codes found in the [ICAO 2008 - 2015 Wildlife Strike Analysis Electronic Bulletin](https://www.icao.int/safety/IBIS/2008%20-%202015%20Wildlife%20Strike%20Analyses%20(IBIS)%20-%20EN.pdf).\n",
        "\n",
        "**Questions to consider:**\n",
        "\n",
        "- What type of animal, flying or land animal, is involved most in strikes?\n",
        "- How different or similar are the number of strikes between the two catagories? Why might this be?\n",
        "\n",
        "We first create a new Series, `land_or_flying_animal`, using the [method `str.contains()`](https://pandas.pydata.org/pandas-docs/stable/reference/api/pandas.Series.str.contains.html) to test if a value in the \"SPECIES_ID\" column begins with the character 1 or 2 (using the regular expression `'^1|2'`. This method returns boolean values, True or False, if the string does or does not match the given regular expression. We then use the [`replace()` method](https://pandas.pydata.org/pandas-docs/stable/reference/api/pandas.DataFrame.replace.html) on the new Series to replace the True or False values with descriptive labels, \"Land animal\" or \"Flying animal,\" respectively."
      ]
    },
    {
      "cell_type": "code",
      "metadata": {
        "colab": {
          "base_uri": "https://localhost:8080/"
        },
        "id": "2PeYZmdjBKm7",
        "outputId": "362fb349-9d54-46b4-87ea-78f1e89b4247"
      },
      "source": [
        "# Create a Series of boolean values, True if a land animal, False if a flying\n",
        "# animal, using a regular expression to test if the \"SPECIES_ID\" string begins\n",
        "# with the character 1 or 2\n",
        "land_or_flying_animal = wl_strikes_clean['SPECIES_ID'].str.contains('^1|2', regex=True)\n",
        "\n",
        "# Replace True or False values with new strings, \"Land animal\" or \"Flying animal\"\n",
        "land_or_flying_animal = land_or_flying_animal.replace(\n",
        "  {True: 'Land animal', False: 'Flying animal'}\n",
        ")\n",
        "\n",
        "# Print out the Series\n",
        "land_or_flying_animal"
      ],
      "execution_count": null,
      "outputs": []
    },
    {
      "cell_type": "markdown",
      "metadata": {
        "id": "CyPygTVXgT_R"
      },
      "source": [
        "We create the bar plot by first calculating the value counts of the `land_or_flying_animal` Series and then calling the `plot` method using the keword arguments `kind='bar'` and `rot=0.5`. The `rot` keyword specifies the rotation of the x-axis tick labels (0.5 = 90 degrees rotation)."
      ]
    },
    {
      "cell_type": "code",
      "metadata": {
        "colab": {
          "base_uri": "https://localhost:8080/",
          "height": 501
        },
        "id": "D5B4JoL3E_6w",
        "outputId": "18cc4ab3-523d-43a7-c435-25352375a12d"
      },
      "source": [
        "# Create a bar chart to compar the counts of land animals vs flying animals\n",
        "land_or_flying_animal.value_counts().plot(kind='bar', rot=0.5)"
      ],
      "execution_count": null,
      "outputs": []
    },
    {
      "cell_type": "code",
      "metadata": {
        "id": "VKsw4mcRfcSb"
      },
      "source": [],
      "execution_count": null,
      "outputs": []
    }
  ]
}